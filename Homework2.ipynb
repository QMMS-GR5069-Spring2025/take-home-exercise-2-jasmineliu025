{
 "cells": [
  {
   "cell_type": "code",
   "execution_count": 0,
   "metadata": {
    "application/vnd.databricks.v1+cell": {
     "cellMetadata": {
      "byteLimit": 2048000,
      "rowLimit": 10000
     },
     "inputWidgets": {},
     "nuid": "84c96e5e-03e1-4f41-a016-60bc565accf7",
     "showTitle": false,
     "tableResultSettingsMap": {},
     "title": ""
    }
   },
   "outputs": [],
   "source": [
    "from pyspark.sql.functions import avg\n",
    "from pyspark.sql.functions import avg, rank\n",
    "from pyspark.sql.window import Window\n",
    "from pyspark.sql.functions import expr, upper, substring, when, col, count\n",
    "from pyspark.sql.functions import col, year, datediff, current_date\n",
    "from pyspark.sql.functions import min, max\n",
    "from pyspark.sql import functions as F"
   ]
  },
  {
   "cell_type": "markdown",
   "metadata": {
    "application/vnd.databricks.v1+cell": {
     "cellMetadata": {},
     "inputWidgets": {},
     "nuid": "0a5f7fb3-ed11-484b-87b6-9cce29f9e187",
     "showTitle": false,
     "tableResultSettingsMap": {},
     "title": ""
    }
   },
   "source": [
    "# Question 1: What was the average time each driver spent at the pit stop for each race?"
   ]
  },
  {
   "cell_type": "code",
   "execution_count": 0,
   "metadata": {
    "application/vnd.databricks.v1+cell": {
     "cellMetadata": {
      "byteLimit": 2048000,
      "rowLimit": 10000
     },
     "inputWidgets": {},
     "nuid": "0e2d8a8b-12b3-4c53-89f1-caf9ab3915c0",
     "showTitle": false,
     "tableResultSettingsMap": {},
     "title": ""
    }
   },
   "outputs": [],
   "source": [
    "df = spark.read.csv(\"s3://columbia-gr5069-main/raw/pit_stops.csv\", header=True, inferSchema=True)\n",
    "df.show()"
   ]
  },
  {
   "cell_type": "code",
   "execution_count": 0,
   "metadata": {
    "application/vnd.databricks.v1+cell": {
     "cellMetadata": {
      "byteLimit": 2048000,
      "rowLimit": 10000
     },
     "inputWidgets": {},
     "nuid": "cbfd1023-1503-404a-acc2-b4b1515310fc",
     "showTitle": false,
     "tableResultSettingsMap": {},
     "title": ""
    }
   },
   "outputs": [],
   "source": [
    "avg_pitstop_time = df.groupBy(\"raceId\", \"driverId\").agg(avg(\"duration\").alias(\"avg_pitstop_time\"))\n",
    "avg_pitstop_time.show(50)"
   ]
  },
  {
   "cell_type": "markdown",
   "metadata": {
    "application/vnd.databricks.v1+cell": {
     "cellMetadata": {},
     "inputWidgets": {},
     "nuid": "6a1e40ec-a2c3-4ed8-bba4-62845f6efbf3",
     "showTitle": false,
     "tableResultSettingsMap": {},
     "title": ""
    }
   },
   "source": [
    "# Question 2: Rank the average time spent at the pit stop in order of who won each race"
   ]
  },
  {
   "cell_type": "code",
   "execution_count": 0,
   "metadata": {
    "application/vnd.databricks.v1+cell": {
     "cellMetadata": {
      "byteLimit": 2048000,
      "rowLimit": 10000
     },
     "inputWidgets": {},
     "nuid": "b79c27d2-d5de-41d0-ba9e-6cf9ab868a99",
     "showTitle": false,
     "tableResultSettingsMap": {},
     "title": ""
    }
   },
   "outputs": [],
   "source": [
    "df1 = spark.read.option(\"header\", True)\\\n",
    "                .option(\"inferSchema\", True)\\\n",
    "                .option(\"multiLine\", True)\\\n",
    "                .csv(\"s3://columbia-gr5069-main/raw/results.csv\")\n",
    "\n",
    "df1 = df1.select(\"raceId\", \"driverId\", \"positionOrder\")\n",
    "df1.show(30)"
   ]
  },
  {
   "cell_type": "code",
   "execution_count": 0,
   "metadata": {
    "application/vnd.databricks.v1+cell": {
     "cellMetadata": {
      "byteLimit": 2048000,
      "rowLimit": 10000
     },
     "inputWidgets": {},
     "nuid": "334c3cb3-5682-4992-aaf4-b1af7614ab98",
     "showTitle": false,
     "tableResultSettingsMap": {},
     "title": ""
    }
   },
   "outputs": [],
   "source": [
    "winners_df = df1.filter(df1.positionOrder == 1).select(\"raceId\", \"driverId\",\"positionOrder\")\n",
    "winners_pitstop = winners_df.join(avg_pitstop_time, on=[\"raceId\", \"driverId\"], how=\"inner\")\n",
    "window_spec = Window.orderBy(\"avg_pitstop_time\")\n",
    "ranked_winners = winners_pitstop.withColumn(\"rank\", rank().over(window_spec))\n",
    "ranked_winners.show()"
   ]
  },
  {
   "cell_type": "markdown",
   "metadata": {
    "application/vnd.databricks.v1+cell": {
     "cellMetadata": {},
     "inputWidgets": {},
     "nuid": "ee277848-9a87-4348-a330-e84d7c2af702",
     "showTitle": false,
     "tableResultSettingsMap": {},
     "title": ""
    }
   },
   "source": [
    "# Question 3: Insert the missing code (e.g: ALO for Alonso) for drivers based on the 'drivers' dataset"
   ]
  },
  {
   "cell_type": "code",
   "execution_count": 0,
   "metadata": {
    "application/vnd.databricks.v1+cell": {
     "cellMetadata": {
      "byteLimit": 2048000,
      "rowLimit": 10000
     },
     "inputWidgets": {},
     "nuid": "f93d2158-053c-43ac-8546-34b1400461c8",
     "showTitle": false,
     "tableResultSettingsMap": {},
     "title": ""
    }
   },
   "outputs": [],
   "source": [
    "df2 = spark.read.csv(\"s3://columbia-gr5069-main/raw/drivers.csv\", header=True, inferSchema=True)\n",
    "df2.show(50)"
   ]
  },
  {
   "cell_type": "code",
   "execution_count": 0,
   "metadata": {
    "application/vnd.databricks.v1+cell": {
     "cellMetadata": {
      "byteLimit": 2048000,
      "rowLimit": 10000
     },
     "inputWidgets": {},
     "nuid": "a8bfb305-6113-496a-9dba-8ce49ae289ad",
     "showTitle": false,
     "tableResultSettingsMap": {},
     "title": ""
    }
   },
   "outputs": [],
   "source": [
    "df2 = df2.withColumn(\"code\", \n",
    "                     when((col(\"code\").isNull()) | (col(\"code\") == \"\\\\N\"),\n",
    "                          upper(substring(col(\"surname\"), 1, 3)))\n",
    "                     .otherwise(col(\"code\")))\n",
    "df2.show(50)"
   ]
  },
  {
   "cell_type": "markdown",
   "metadata": {
    "application/vnd.databricks.v1+cell": {
     "cellMetadata": {},
     "inputWidgets": {},
     "nuid": "247a183b-27dd-4ca1-89ac-3aa51666ef93",
     "showTitle": false,
     "tableResultSettingsMap": {},
     "title": ""
    }
   },
   "source": [
    "# Question 4: Who is the youngest and oldest driver for each race? Create a new column called “Age”"
   ]
  },
  {
   "cell_type": "code",
   "execution_count": 0,
   "metadata": {
    "application/vnd.databricks.v1+cell": {
     "cellMetadata": {
      "byteLimit": 2048000,
      "rowLimit": 10000
     },
     "inputWidgets": {},
     "nuid": "052c5b9a-e35d-40b1-a781-ee5bcf9336d1",
     "showTitle": false,
     "tableResultSettingsMap": {},
     "title": ""
    }
   },
   "outputs": [],
   "source": [
    "df2=df2.withColumn(\"dob\", col(\"dob\").cast(\"date\"))\n",
    "df2 = df2.withColumn(\"Age\", year(current_date()) - year(col(\"dob\")))\n",
    "df2.show(50)"
   ]
  },
  {
   "cell_type": "code",
   "execution_count": 0,
   "metadata": {
    "application/vnd.databricks.v1+cell": {
     "cellMetadata": {
      "byteLimit": 2048000,
      "rowLimit": 10000
     },
     "inputWidgets": {},
     "nuid": "88f99bbb-d0d4-48d9-b2fd-005f8fc9967f",
     "showTitle": false,
     "tableResultSettingsMap": {},
     "title": ""
    }
   },
   "outputs": [],
   "source": [
    "df_with_race = df1.join(df2, on=\"driverId\", how=\"left\")\n",
    "window_spec = Window.partitionBy(\"raceId\")\n",
    "df_age = df_with_race.withColumn(\"youngest_age\", min(col(\"Age\")).over(window_spec)) \\\n",
    "                      .withColumn(\"oldest_age\", max(col(\"Age\")).over(window_spec))\n",
    "df_new = df_age.filter((F.col(\"Age\") == F.col(\"youngest_age\")) | (F.col(\"Age\") == F.col(\"oldest_age\")))\n",
    "\n",
    "df_new.select(\"raceId\", \"driverId\",  \"Age\").show(10)"
   ]
  },
  {
   "cell_type": "markdown",
   "metadata": {
    "application/vnd.databricks.v1+cell": {
     "cellMetadata": {},
     "inputWidgets": {},
     "nuid": "b37a14ed-253d-4fc2-9c97-e06fbdb99ac4",
     "showTitle": false,
     "tableResultSettingsMap": {},
     "title": ""
    }
   },
   "source": [
    "# Question 5: For a given race, which driver has the most wins and losses?"
   ]
  },
  {
   "cell_type": "code",
   "execution_count": 0,
   "metadata": {
    "application/vnd.databricks.v1+cell": {
     "cellMetadata": {
      "byteLimit": 2048000,
      "rowLimit": 10000
     },
     "inputWidgets": {},
     "nuid": "ecfeef02-45d8-43bd-b131-00aac9cfdaf3",
     "showTitle": false,
     "tableResultSettingsMap": {},
     "title": ""
    }
   },
   "outputs": [],
   "source": [
    "# Question 5\n",
    "df_results_with_drivers = df1.join(df2, on=\"driverId\", how=\"left\")\n",
    "most_wins = df_results_with_drivers.filter(F.col(\"positionOrder\") == 1) \\\n",
    "    .select(\"raceId\", \"driverId\", \"code\", F.lit(\"Winner\").alias(\"status\"))\n",
    "window_spec1 = Window.partitionBy(\"raceId\")\n",
    "most_losses = df_results_with_drivers.withColumn(\"max_position\", F.max(\"positionOrder\").over(window_spec1)) \\\n",
    "    .filter(F.col(\"positionOrder\") == F.col(\"max_position\")) \\\n",
    "    .select(\"raceId\", \"driverId\", \"code\", F.lit(\"Loser\").alias(\"status\"))\n",
    "most_wins.show()\n",
    "most_losses.show()"
   ]
  },
  {
   "cell_type": "markdown",
   "metadata": {
    "application/vnd.databricks.v1+cell": {
     "cellMetadata": {},
     "inputWidgets": {},
     "nuid": "5c48a432-2140-48df-add8-f0308fbebcc7",
     "showTitle": false,
     "tableResultSettingsMap": {},
     "title": ""
    }
   },
   "source": [
    "# Question 6: Continue exploring the data by answering your own question. (Which Driver is the person who got the most wins for all races?)"
   ]
  },
  {
   "cell_type": "code",
   "execution_count": 0,
   "metadata": {
    "application/vnd.databricks.v1+cell": {
     "cellMetadata": {
      "byteLimit": 2048000,
      "rowLimit": 10000
     },
     "inputWidgets": {},
     "nuid": "0252ba61-e48d-466d-ab96-fe095ef61d20",
     "showTitle": false,
     "tableResultSettingsMap": {},
     "title": ""
    }
   },
   "outputs": [],
   "source": [
    "driver_wins = winners_df.groupBy(\"driverId\") \\\n",
    "    .agg(count(\"*\").alias(\"win_count\")) \n",
    "most_wins = driver_wins.join(df2.select(\"driverId\", \"code\", \"forename\", \"surname\"), on=\"driverId\", how=\"left\")\n",
    "most_wins.orderBy(col(\"win_count\").desc()).show()"
   ]
  }
 ],
 "metadata": {
  "application/vnd.databricks.v1+notebook": {
   "computePreferences": null,
   "dashboards": [],
   "environmentMetadata": {
    "base_environment": "",
    "environment_version": "2"
   },
   "language": "python",
   "notebookMetadata": {
    "mostRecentlyExecutedCommandWithImplicitDF": {
     "commandId": 2133459129371098,
     "dataframes": [
      "_sqldf"
     ]
    },
    "pythonIndentUnit": 4
   },
   "notebookName": "Homework2",
   "widgets": {}
  },
  "language_info": {
   "name": "python"
  }
 },
 "nbformat": 4,
 "nbformat_minor": 0
}
