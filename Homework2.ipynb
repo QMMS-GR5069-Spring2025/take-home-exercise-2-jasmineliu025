{
 "cells": [
  {
   "cell_type": "code",
   "execution_count": 0,
   "metadata": {
    "application/vnd.databricks.v1+cell": {
     "cellMetadata": {
      "byteLimit": 2048000,
      "rowLimit": 10000
     },
     "inputWidgets": {},
     "nuid": "84c96e5e-03e1-4f41-a016-60bc565accf7",
     "showTitle": false,
     "tableResultSettingsMap": {},
     "title": ""
    }
   },
   "outputs": [],
   "source": [
    "from pyspark.sql.functions import avg\n",
    "from pyspark.sql.functions import avg, rank\n",
    "from pyspark.sql.window import Window\n",
    "from pyspark.sql.functions import expr, upper, substring, when, col, count,asc\n",
    "from pyspark.sql.functions import col, year, datediff, current_date\n",
    "from pyspark.sql.functions import min, max\n",
    "from pyspark.sql import functions as F\n",
    "from pyspark.ml.regression import LinearRegression\n",
    "from pyspark.ml.feature import VectorAssembler"
   ]
  },
  {
   "cell_type": "markdown",
   "metadata": {
    "application/vnd.databricks.v1+cell": {
     "cellMetadata": {},
     "inputWidgets": {},
     "nuid": "0a5f7fb3-ed11-484b-87b6-9cce29f9e187",
     "showTitle": false,
     "tableResultSettingsMap": {},
     "title": ""
    }
   },
   "source": [
    "# Question 1: What was the average time each driver spent at the pit stop for each race?"
   ]
  },
  {
   "cell_type": "code",
   "execution_count": 0,
   "metadata": {
    "application/vnd.databricks.v1+cell": {
     "cellMetadata": {
      "byteLimit": 2048000,
      "rowLimit": 10000
     },
     "inputWidgets": {},
     "nuid": "0e2d8a8b-12b3-4c53-89f1-caf9ab3915c0",
     "showTitle": false,
     "tableResultSettingsMap": {},
     "title": ""
    }
   },
   "outputs": [],
   "source": [
    "df = spark.read.csv(\"s3://columbia-gr5069-main/raw/pit_stops.csv\", header=True, inferSchema=True)\n",
    "df.show(50)"
   ]
  },
  {
   "cell_type": "code",
   "execution_count": 0,
   "metadata": {
    "application/vnd.databricks.v1+cell": {
     "cellMetadata": {
      "byteLimit": 2048000,
      "rowLimit": 10000
     },
     "inputWidgets": {},
     "nuid": "cbfd1023-1503-404a-acc2-b4b1515310fc",
     "showTitle": false,
     "tableResultSettingsMap": {},
     "title": ""
    }
   },
   "outputs": [],
   "source": [
    "avg_pitstop_time = df.groupBy(\"raceId\", \"driverId\").agg(avg(\"milliseconds\").alias(\"avg_pitstop\"))\n",
    "avg_pitstop_time.show(50)"
   ]
  },
  {
   "cell_type": "markdown",
   "metadata": {
    "application/vnd.databricks.v1+cell": {
     "cellMetadata": {},
     "inputWidgets": {},
     "nuid": "6a1e40ec-a2c3-4ed8-bba4-62845f6efbf3",
     "showTitle": false,
     "tableResultSettingsMap": {},
     "title": ""
    }
   },
   "source": [
    "# Question 2: Rank the average time spent at the pit stop in order of who won each race"
   ]
  },
  {
   "cell_type": "code",
   "execution_count": 0,
   "metadata": {
    "application/vnd.databricks.v1+cell": {
     "cellMetadata": {
      "byteLimit": 2048000,
      "rowLimit": 10000
     },
     "inputWidgets": {},
     "nuid": "b79c27d2-d5de-41d0-ba9e-6cf9ab868a99",
     "showTitle": false,
     "tableResultSettingsMap": {},
     "title": ""
    }
   },
   "outputs": [],
   "source": [
    "df1 = spark.read.option(\"header\", True)\\\n",
    "                .option(\"inferSchema\", True)\\\n",
    "                .option(\"multiLine\", True)\\\n",
    "                .csv(\"s3://columbia-gr5069-main/raw/results.csv\")\n",
    "\n",
    "df1.show(30)"
   ]
  },
  {
   "cell_type": "code",
   "execution_count": 0,
   "metadata": {
    "application/vnd.databricks.v1+cell": {
     "cellMetadata": {
      "byteLimit": 2048000,
      "rowLimit": 10000
     },
     "inputWidgets": {},
     "nuid": "cc9a32fa-d1fe-41f4-aa03-ddce87254cbc",
     "showTitle": false,
     "tableResultSettingsMap": {},
     "title": ""
    }
   },
   "outputs": [],
   "source": [
    "joined = avg_pitstop_time.join(\n",
    "   df1.select(\"raceId\", \"driverId\", \"positionOrder\", \"positionText\"),\n",
    "    on=[\"raceId\", \"driverId\"],\n",
    "    how=\"inner\"\n",
    ")\n",
    "finish = joined.filter(~col(\"positionText\").isin(\"R\", \"N\", \"D\"))"
   ]
  },
  {
   "cell_type": "code",
   "execution_count": 0,
   "metadata": {
    "application/vnd.databricks.v1+cell": {
     "cellMetadata": {
      "byteLimit": 2048000,
      "rowLimit": 10000
     },
     "inputWidgets": {},
     "nuid": "504587cc-8071-4852-9250-78cfba63fee0",
     "showTitle": false,
     "tableResultSettingsMap": {},
     "title": ""
    }
   },
   "outputs": [],
   "source": [
    "ranked = finish.orderBy(\"raceId\", asc(\"positionOrder\"))\n",
    "ranked.show(50)"
   ]
  },
  {
   "cell_type": "markdown",
   "metadata": {
    "application/vnd.databricks.v1+cell": {
     "cellMetadata": {
      "byteLimit": 2048000,
      "rowLimit": 10000
     },
     "inputWidgets": {},
     "nuid": "334c3cb3-5682-4992-aaf4-b1af7614ab98",
     "showTitle": false,
     "tableResultSettingsMap": {},
     "title": ""
    }
   },
   "source": [
    "I excluded people who are not classified, disqulified and who did not finish the race for clearer and better comparisons for other racers in each race. Their pit stop time were not used in my analysis."
   ]
  },
  {
   "cell_type": "markdown",
   "metadata": {
    "application/vnd.databricks.v1+cell": {
     "cellMetadata": {},
     "inputWidgets": {},
     "nuid": "ee277848-9a87-4348-a330-e84d7c2af702",
     "showTitle": false,
     "tableResultSettingsMap": {},
     "title": ""
    }
   },
   "source": [
    "# Question 3: Insert the missing code (e.g: ALO for Alonso) for drivers based on the 'drivers' dataset"
   ]
  },
  {
   "cell_type": "code",
   "execution_count": 0,
   "metadata": {
    "application/vnd.databricks.v1+cell": {
     "cellMetadata": {
      "byteLimit": 2048000,
      "rowLimit": 10000
     },
     "inputWidgets": {},
     "nuid": "f93d2158-053c-43ac-8546-34b1400461c8",
     "showTitle": false,
     "tableResultSettingsMap": {},
     "title": ""
    }
   },
   "outputs": [],
   "source": [
    "df2 = spark.read.csv(\"s3://columbia-gr5069-main/raw/drivers.csv\", header=True, inferSchema=True)\n",
    "df2.show(50)"
   ]
  },
  {
   "cell_type": "code",
   "execution_count": 0,
   "metadata": {
    "application/vnd.databricks.v1+cell": {
     "cellMetadata": {
      "byteLimit": 2048000,
      "rowLimit": 10000
     },
     "inputWidgets": {},
     "nuid": "a8bfb305-6113-496a-9dba-8ce49ae289ad",
     "showTitle": false,
     "tableResultSettingsMap": {},
     "title": ""
    }
   },
   "outputs": [],
   "source": [
    "df2 = df2.withColumn(\"code\", \n",
    "                     when((col(\"code\").isNull()) | (col(\"code\") == \"\\\\N\"),\n",
    "                          upper(substring(col(\"surname\"), 1, 3)))\n",
    "                     .otherwise(col(\"code\")))\n",
    "df2.show(50)"
   ]
  },
  {
   "cell_type": "markdown",
   "metadata": {
    "application/vnd.databricks.v1+cell": {
     "cellMetadata": {},
     "inputWidgets": {},
     "nuid": "2c64d64d-375e-407e-8c94-ec7655860cf5",
     "showTitle": false,
     "tableResultSettingsMap": {},
     "title": ""
    }
   },
   "source": [
    "I notice the code is the capitalized first 3 letter of surname, and there are rows with \"N\" in code column. So I replaced them with according first 3 letter of surname and keep other value that have already been the correct code."
   ]
  },
  {
   "cell_type": "markdown",
   "metadata": {
    "application/vnd.databricks.v1+cell": {
     "cellMetadata": {},
     "inputWidgets": {},
     "nuid": "247a183b-27dd-4ca1-89ac-3aa51666ef93",
     "showTitle": false,
     "tableResultSettingsMap": {},
     "title": ""
    }
   },
   "source": [
    "# Question 4: Who is the youngest and oldest driver for each race? Create a new column called “Age”"
   ]
  },
  {
   "cell_type": "code",
   "execution_count": 0,
   "metadata": {
    "application/vnd.databricks.v1+cell": {
     "cellMetadata": {
      "byteLimit": 2048000,
      "rowLimit": 10000
     },
     "inputWidgets": {},
     "nuid": "052c5b9a-e35d-40b1-a781-ee5bcf9336d1",
     "showTitle": false,
     "tableResultSettingsMap": {},
     "title": ""
    }
   },
   "outputs": [],
   "source": [
    "df2=df2.withColumn(\"dob\", col(\"dob\").cast(\"date\"))\n",
    "df2 = df2.withColumn(\"Age\", year(current_date()) - year(col(\"dob\"))) # so for the age, I use the current year minus the birthday year to get the driver's age.\n",
    "df2.show(50)"
   ]
  },
  {
   "cell_type": "code",
   "execution_count": 0,
   "metadata": {
    "application/vnd.databricks.v1+cell": {
     "cellMetadata": {
      "byteLimit": 2048000,
      "rowLimit": 10000
     },
     "inputWidgets": {},
     "nuid": "88f99bbb-d0d4-48d9-b2fd-005f8fc9967f",
     "showTitle": false,
     "tableResultSettingsMap": {},
     "title": ""
    }
   },
   "outputs": [],
   "source": [
    "df_age = df1.join(df2, on=\"driverId\", how=\"left\")\n",
    "window_spec = Window.partitionBy(\"raceId\")\n",
    "df_labeled = df_age.withColumn(\"youngest_age\", min(col(\"Age\")).over(window_spec)) \\\n",
    "    .withColumn(\"oldest_age\", max(col(\"Age\")).over(window_spec)) \\\n",
    "    .withColumn(\n",
    "        \"age_group\",\n",
    "        when(col(\"Age\") == col(\"youngest_age\"), \"youngest\")\n",
    "        .when(col(\"Age\") == col(\"oldest_age\"), \"oldest\")\n",
    "    )\n",
    "df_filtered = df_labeled.filter(col(\"age_group\").isNotNull())\n",
    "df_filtered.select(\"raceId\", \"driverId\", \"Age\", \"age_group\").show(10)"
   ]
  },
  {
   "cell_type": "markdown",
   "metadata": {
    "application/vnd.databricks.v1+cell": {
     "cellMetadata": {},
     "inputWidgets": {},
     "nuid": "b37a14ed-253d-4fc2-9c97-e06fbdb99ac4",
     "showTitle": false,
     "tableResultSettingsMap": {},
     "title": ""
    }
   },
   "source": [
    "# Question 5: For a given race, which driver has the most wins and losses?"
   ]
  },
  {
   "cell_type": "code",
   "execution_count": 0,
   "metadata": {
    "application/vnd.databricks.v1+cell": {
     "cellMetadata": {
      "byteLimit": 2048000,
      "rowLimit": 10000
     },
     "inputWidgets": {},
     "nuid": "2c26f3bf-3149-4d41-8ad8-e8ca69d2b9e8",
     "showTitle": false,
     "tableResultSettingsMap": {},
     "title": ""
    }
   },
   "outputs": [],
   "source": [
    "completed = df1.filter(~F.col(\"positionText\").isin(\"R\", \"N\", \"D\"))\n",
    "window_spec1 = Window.partitionBy(\"driverId\").orderBy(\"raceId\").rowsBetween(Window.unboundedPreceding, -1)\n",
    "with_flags = completed.withColumn(\"is_win\", F.when(F.col(\"positionOrder\") == 1, 1).otherwise(0)) \\\n",
    "                      .withColumn(\"is_loss\", F.when(F.col(\"positionOrder\") > 1, 1).otherwise(0))\n",
    "winslosses_history = with_flags.withColumn(\"past_wins\", F.sum(\"is_win\").over(window_spec)) \\\n",
    "                               .withColumn(\"past_losses\", F.sum(\"is_loss\").over(window_spec))\n",
    "winslosses_history.select(\"raceId\", \"driverId\", \"past_wins\", \"past_losses\").show()"
   ]
  },
  {
   "cell_type": "markdown",
   "metadata": {
    "application/vnd.databricks.v1+cell": {
     "cellMetadata": {},
     "inputWidgets": {},
     "nuid": "5c48a432-2140-48df-add8-f0308fbebcc7",
     "showTitle": false,
     "tableResultSettingsMap": {},
     "title": ""
    }
   },
   "source": [
    "# Question 6: Continue exploring the data by answering your own question. "
   ]
  },
  {
   "cell_type": "code",
   "execution_count": 0,
   "metadata": {
    "application/vnd.databricks.v1+cell": {
     "cellMetadata": {
      "byteLimit": 2048000,
      "rowLimit": 10000
     },
     "inputWidgets": {},
     "nuid": "e15a57e7-91fc-448f-902f-4b9e7d11b1e5",
     "showTitle": false,
     "tableResultSettingsMap": {},
     "title": ""
    }
   },
   "outputs": [],
   "source": [
    "# I'm trying to figure out the relationship of position at the start of the race(Grid) and the position at the end of the race(position order).\n",
    "assembler = VectorAssembler(inputCols=[\"grid\"], outputCol=\"features\")\n",
    "assembled = assembler.transform(completed.select(\"grid\", \"positionOrder\"))\n",
    "lr = LinearRegression(featuresCol=\"features\", labelCol=\"positionOrder\")\n",
    "model = lr.fit(assembled)\n",
    "summary = model.summary\n",
    "print(\"Coefficients:\", model.coefficients)\n",
    "print(\"Intercept:\", model.intercept)\n",
    "print(\"R^2:\", summary.r2)\n",
    "print(\"RMSE:\", summary.rootMeanSquaredError)\n",
    "summary.residuals.show()"
   ]
  },
  {
   "cell_type": "markdown",
   "metadata": {
    "application/vnd.databricks.v1+cell": {
     "cellMetadata": {},
     "inputWidgets": {},
     "nuid": "a45dad03-4d60-43ab-95ed-4e66af13bcbb",
     "showTitle": false,
     "tableResultSettingsMap": {},
     "title": ""
    }
   },
   "source": [
    "The regression shows that grid has almost no impact on race result in this dataset, with a very low R² of 0.00049 and a small coefficient of 0.023, which means starting farther back slightly increases finish position. However, the effect is negligible, and the model’s predictions are off by an average of 7.5 positions (RMSE), suggesting race outcomes are influenced more by other factors like pit stops, DNFs and so on instead of starting position."
   ]
  }
 ],
 "metadata": {
  "application/vnd.databricks.v1+notebook": {
   "computePreferences": null,
   "dashboards": [],
   "environmentMetadata": {
    "base_environment": "",
    "environment_version": "2"
   },
   "language": "python",
   "notebookMetadata": {
    "mostRecentlyExecutedCommandWithImplicitDF": {
     "commandId": 2133459129371098,
     "dataframes": [
      "_sqldf"
     ]
    },
    "pythonIndentUnit": 4
   },
   "notebookName": "Homework2",
   "widgets": {}
  },
  "language_info": {
   "name": "python"
  }
 },
 "nbformat": 4,
 "nbformat_minor": 0
}
